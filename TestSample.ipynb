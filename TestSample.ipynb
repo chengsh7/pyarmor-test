{
 "cells": [
  {
   "cell_type": "code",
   "execution_count": null,
   "metadata": {},
   "outputs": [],
   "source": [
    "!pip install --user --upgrade --no-deps --force-reinstall sample1-1.0-py3-none-any.whl\n",
    "!pip install --user --upgrade --no-deps --force-reinstall sample2-1.0-py3-none-any.whl"
   ]
  },
  {
   "cell_type": "code",
   "execution_count": null,
   "metadata": {},
   "outputs": [],
   "source": [
    "import sample1\n",
    "from sample1.sample1 import Sample1\n",
    "\n",
    "print(sample1.get_version())\n",
    "Sample1.print_info()"
   ]
  },
  {
   "cell_type": "code",
   "execution_count": null,
   "metadata": {},
   "outputs": [],
   "source": [
    "import sample2\n",
    "from sample2.sample2 import Sample2\n",
    "\n",
    "print(sample2.get_version())\n",
    "Sample2.print_info()"
   ]
  }
 ],
 "metadata": {
  "kernelspec": {
   "display_name": "python_3_6(build)",
   "language": "python",
   "name": "python_3_6"
  },
  "language_info": {
   "codemirror_mode": {
    "name": "ipython",
    "version": 3
   },
   "file_extension": ".py",
   "mimetype": "text/x-python",
   "name": "python",
   "nbconvert_exporter": "python",
   "pygments_lexer": "ipython3",
   "version": "3.6.10"
  }
 },
 "nbformat": 4,
 "nbformat_minor": 4
}
